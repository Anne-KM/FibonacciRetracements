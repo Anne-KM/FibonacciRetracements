{
 "cells": [
  {
   "cell_type": "code",
   "execution_count": 55,
   "metadata": {},
   "outputs": [
    {
     "data": {
      "text/html": [
       "<style>.container { width:75% !important; }</style>"
      ],
      "text/plain": [
       "<IPython.core.display.HTML object>"
      ]
     },
     "metadata": {},
     "output_type": "display_data"
    }
   ],
   "source": [
    "#Limit output size of HTML display\n",
    "\n",
    "from IPython.core.display import display, HTML\n",
    "display(HTML(\"<style>.container { width:75% !important; }</style>\"))\n"
   ]
  },
  {
   "cell_type": "markdown",
   "metadata": {},
   "source": [
    "# Generate a Fibonacci Squence\n",
    "\n",
    "Each number in this sequence is the sum of the two numbers that precede it. The sequence starts with 1, 1, 2, 3, 5, 8, and so on. The mathematical equation describing it is Xn+2= Xn+1 + Xn."
   ]
  },
  {
   "cell_type": "code",
   "execution_count": 56,
   "metadata": {},
   "outputs": [
    {
     "data": {
      "text/plain": [
       "[1, 1, 2, 3, 5, 8, 13, 21, 34, 55, 89, 144, 233, 377, 610]"
      ]
     },
     "execution_count": 56,
     "metadata": {},
     "output_type": "execute_result"
    }
   ],
   "source": [
    "'''Uncomment, if input by user should be requested:\n",
    "\n",
    "#Enter a number to define how many elements of the Fibonacci Sequence should be generated.  Check if entry is an integer.\n",
    "\n",
    "while True:\n",
    "    try:\n",
    "        n=int(input(\"How many Fibonacci numbers should be generated?  Pick a number:\"))\n",
    "        break\n",
    "    except ValueError:\n",
    "        print(\"Please provide an integer.\")\n",
    "'''\n",
    "    \n",
    "#Function which creates n elements of the Fibonacci Sequence.  Preset value for n=15.\n",
    "def Fibonacci(n=15):\n",
    "    \n",
    "    #First two elements of sequence\n",
    "    row=[1,1]\n",
    "    \n",
    "    #Create the sequence\n",
    "    if n==1:\n",
    "        row=[1]\n",
    "    elif n==2:\n",
    "        row=[1,1]\n",
    "    elif n>2:\n",
    "        for i in range(n-2):\n",
    "            row.append(row[-1]+row[-2])\n",
    "    \n",
    "    # Return the created sequence\n",
    "    return row\n",
    "    \n",
    "\n",
    "#Call function and return value\n",
    "fibo_nr=Fibonacci()\n",
    "\n",
    "#Only show the first 15 elements to save some space screen in case n is a large number\n",
    "fibo_nr[:15]\n"
   ]
  },
  {
   "cell_type": "markdown",
   "metadata": {},
   "source": [
    "##  Drawing Fibonacci Squares and spirale using Turtle Graphics\n",
    "\n",
    "Following Fibonacci Squares and it's spiral are drawn.  \n",
    "\n",
    "Note: In Jupyter I can only run this code once and on the second run get a Terminator Error.  When I run this code directly from a Python Script it works fine.  I have not figured out what exactly the problem is."
   ]
  },
  {
   "cell_type": "code",
   "execution_count": 41,
   "metadata": {},
   "outputs": [],
   "source": [
    "import turtle\n",
    "\n",
    "#Function for drawing a square of a certain side length\n",
    "def draw_square(side_length):  \n",
    "    for i in range(4):\n",
    "        turtle.forward(side_length)\n",
    "        turtle.right(90)\n",
    "        \n",
    "#Definition of how many Fibonacci squares should be drawn.  Preset value limited to 11. \n",
    "nr_squares=len(fibo_nr[:11])\n",
    "\n",
    "#Enlargement factor and moving the turtle to the correct starting point to start drawing\n",
    "factor = 3                        \n",
    "turtle.penup()\n",
    "turtle.goto(50,50)                 \n",
    "turtle.pendown()\n",
    "\n",
    "#Start drawing Fibonacci squares \n",
    "for i in range(nr_squares):\n",
    "    draw_square(factor*fibo_nr[i]) #Draw square\n",
    "    turtle.penup()                 #Move to new corner as starting point\n",
    "    turtle.forward(factor*fibo_nr[i])\n",
    "    turtle.right(90)\n",
    "    turtle.forward(factor*fibo_nr[i])\n",
    "    turtle.pendown()\n",
    "        \n",
    "#Move turtle back to starting point and set parameters for drawing the quartercircles        \n",
    "turtle.penup()\n",
    "turtle.goto(50,50)       #Move to starting point\n",
    "turtle.setheading(0)     #Face the turtle to the right\n",
    "turtle.pencolor('red')\n",
    "turtle.pensize(3)\n",
    "turtle.pendown()\n",
    "\n",
    "#Draw quartercircles with Fibonacci numbers as radius\n",
    "for i in range(nr_squares):\n",
    "    turtle.circle(-factor*fibo_nr[i],90)  # minus sign to draw clockwise\n",
    "\n",
    "#Click on the opened window for closure\n",
    "turtle.exitonclick()"
   ]
  },
  {
   "cell_type": "markdown",
   "metadata": {},
   "source": [
    "## Golden Ratio\n",
    "\n",
    "What happens when we take any two successive Fibonacci Numbers and calculate their ratio?  We receive a value that is close to the golden ratio ($\\Phi$=1.618...).  For more backround information on the golden ratio check out Wikipedia [[1]](https://en.wikipedia.org/wiki/Golden_ratio).\n"
   ]
  },
  {
   "cell_type": "code",
   "execution_count": 42,
   "metadata": {},
   "outputs": [
    {
     "data": {
      "text/html": [
       "<div>\n",
       "<style scoped>\n",
       "    .dataframe tbody tr th:only-of-type {\n",
       "        vertical-align: middle;\n",
       "    }\n",
       "\n",
       "    .dataframe tbody tr th {\n",
       "        vertical-align: top;\n",
       "    }\n",
       "\n",
       "    .dataframe thead th {\n",
       "        text-align: right;\n",
       "    }\n",
       "</style>\n",
       "<table border=\"1\" class=\"dataframe\">\n",
       "  <thead>\n",
       "    <tr style=\"text-align: right;\">\n",
       "      <th></th>\n",
       "      <th>A</th>\n",
       "      <th>B</th>\n",
       "      <th>B/A</th>\n",
       "    </tr>\n",
       "  </thead>\n",
       "  <tbody>\n",
       "    <tr>\n",
       "      <th>0</th>\n",
       "      <td>1</td>\n",
       "      <td>1</td>\n",
       "      <td>1.000000</td>\n",
       "    </tr>\n",
       "    <tr>\n",
       "      <th>1</th>\n",
       "      <td>1</td>\n",
       "      <td>2</td>\n",
       "      <td>2.000000</td>\n",
       "    </tr>\n",
       "    <tr>\n",
       "      <th>2</th>\n",
       "      <td>2</td>\n",
       "      <td>3</td>\n",
       "      <td>1.500000</td>\n",
       "    </tr>\n",
       "    <tr>\n",
       "      <th>3</th>\n",
       "      <td>3</td>\n",
       "      <td>5</td>\n",
       "      <td>1.666667</td>\n",
       "    </tr>\n",
       "    <tr>\n",
       "      <th>4</th>\n",
       "      <td>5</td>\n",
       "      <td>8</td>\n",
       "      <td>1.600000</td>\n",
       "    </tr>\n",
       "    <tr>\n",
       "      <th>5</th>\n",
       "      <td>8</td>\n",
       "      <td>13</td>\n",
       "      <td>1.625000</td>\n",
       "    </tr>\n",
       "    <tr>\n",
       "      <th>6</th>\n",
       "      <td>13</td>\n",
       "      <td>21</td>\n",
       "      <td>1.615385</td>\n",
       "    </tr>\n",
       "    <tr>\n",
       "      <th>7</th>\n",
       "      <td>21</td>\n",
       "      <td>34</td>\n",
       "      <td>1.619048</td>\n",
       "    </tr>\n",
       "    <tr>\n",
       "      <th>8</th>\n",
       "      <td>34</td>\n",
       "      <td>55</td>\n",
       "      <td>1.617647</td>\n",
       "    </tr>\n",
       "    <tr>\n",
       "      <th>9</th>\n",
       "      <td>55</td>\n",
       "      <td>89</td>\n",
       "      <td>1.618182</td>\n",
       "    </tr>\n",
       "    <tr>\n",
       "      <th>10</th>\n",
       "      <td>89</td>\n",
       "      <td>144</td>\n",
       "      <td>1.617978</td>\n",
       "    </tr>\n",
       "    <tr>\n",
       "      <th>11</th>\n",
       "      <td>144</td>\n",
       "      <td>233</td>\n",
       "      <td>1.618056</td>\n",
       "    </tr>\n",
       "    <tr>\n",
       "      <th>12</th>\n",
       "      <td>233</td>\n",
       "      <td>377</td>\n",
       "      <td>1.618026</td>\n",
       "    </tr>\n",
       "    <tr>\n",
       "      <th>13</th>\n",
       "      <td>377</td>\n",
       "      <td>610</td>\n",
       "      <td>1.618037</td>\n",
       "    </tr>\n",
       "    <tr>\n",
       "      <th>14</th>\n",
       "      <td>610</td>\n",
       "      <td>987</td>\n",
       "      <td>1.618033</td>\n",
       "    </tr>\n",
       "  </tbody>\n",
       "</table>\n",
       "</div>"
      ],
      "text/plain": [
       "      A    B       B/A\n",
       "0     1    1  1.000000\n",
       "1     1    2  2.000000\n",
       "2     2    3  1.500000\n",
       "3     3    5  1.666667\n",
       "4     5    8  1.600000\n",
       "5     8   13  1.625000\n",
       "6    13   21  1.615385\n",
       "7    21   34  1.619048\n",
       "8    34   55  1.617647\n",
       "9    55   89  1.618182\n",
       "10   89  144  1.617978\n",
       "11  144  233  1.618056\n",
       "12  233  377  1.618026\n",
       "13  377  610  1.618037\n",
       "14  610  987  1.618033"
      ]
     },
     "execution_count": 42,
     "metadata": {},
     "output_type": "execute_result"
    }
   ],
   "source": [
    "#Let's create a DataFrame to visualize the golden ratio in a table \n",
    "import pandas as pd\n",
    "\n",
    "#Define here the amount of values in Fibonacci sequence to perform calculation and visualization on \n",
    "fibo_nr=Fibonacci(100)\n",
    "\n",
    "#Take Fibonacci list from above and calculate ratio of successive numbers\n",
    "A=fibo_nr[:-1]\n",
    "B=fibo_nr[1:]\n",
    "\n",
    "quotient=[] #B/A\n",
    "for i in range(len(B)):\n",
    "    quotient.append(B[i]/A[i])\n",
    "\n",
    "#Create DataFrame to visualize Fibonacci sequence with their successive numbers and respective ratio (B/A)\n",
    "DF=pd.DataFrame({\"A\":A, \"B\":B, \"B/A\":quotient})\n",
    "\n",
    "DF[:15]"
   ]
  },
  {
   "cell_type": "code",
   "execution_count": 43,
   "metadata": {},
   "outputs": [
    {
     "data": {
      "image/png": "[encoded data removed]",
      "text/plain": [
       "<Figure size 720x360 with 1 Axes>"
      ]
     },
     "metadata": {
      "needs_background": "light"
     },
     "output_type": "display_data"
    }
   ],
   "source": [
    "#Visualize PHI over Fibonacci Sequence\n",
    "\n",
    "import matplotlib.pyplot as plt\n",
    "import seaborn as sns\n",
    "\n",
    "\n",
    "plt.figure(figsize=(10,5))\n",
    "plt.title(\"Ratio between two succeding Fibonacci numbers\")\n",
    "plt.ylabel(\"Fibonacci(n+1)/Fibonacci(n)\")\n",
    "plt.xlabel(\"nth number of Fibonacci sequence\")\n",
    "plt.ylim([1,2])\n",
    "plt.grid(b=True, which='minor', color='#999999', linestyle='-', alpha=0.1)\n",
    "\n",
    "\n",
    "#Plot blue line to demonstrate PHI value\n",
    "plt.plot([0,15],[1.618, 1.618],linewidth=1)\n",
    "\n",
    "#Plot third column (phi) - only the first 15 columns\n",
    "DF[\"B/A\"][:15].plot.bar(linewidth=1);"
   ]
  },
  {
   "cell_type": "markdown",
   "metadata": {},
   "source": [
    "# Fibonacci retracement levels in Finance\n",
    "\n",
    "Fibonacci retracements are a popular form of technical analysis used by traders in order to predict future potential prices in the financial markets. If used correctly, Fibonacci retracements and ratios can help traders to identify upcoming support and resistance levels based on past price action. [[2]](https://www.cmcmarkets.com/en-gb/trading-guides/how-to-trade-with-fibonacci#:~:text=Fibonacci%20retracements%20are%20a%20popular,based%20on%20past%20price%20action.)\n",
    "\n",
    "The following Fibonacci ratios play an important role in this analysis.\n",
    "\n"
   ]
  },
  {
   "cell_type": "code",
   "execution_count": 44,
   "metadata": {},
   "outputs": [
    {
     "name": "stdout",
     "output_type": "stream",
     "text": [
      "Golden Ratio:\n",
      "\t Φ = 1.618 \n",
      "\n",
      "Retracement levels:\n",
      "\t Level 1 = 23.6%\n",
      "\u001b[32m\t Level 2 = 38.2%\u001b[0m\n",
      "\t Level 3 = 61.8%\n",
      "\t Level 4 = 50.0%\n",
      "\u001b[32m\t Level 5 = 61.8%\u001b[0m\n",
      "\t Level 6 = 127.2%\n"
     ]
    }
   ],
   "source": [
    "from termcolor import colored\n",
    "\n",
    "'''Fibonacci-Retracement-Niveaus\n",
    "'''\n",
    "#Create a new Fibonacci sequence\n",
    "fibo_nr=Fibonacci(100)\n",
    "\n",
    "#Calculate the golden ratio phi\n",
    "phi=round(fibo_nr[-1]/fibo_nr[-2],3)\n",
    "sqrt_phi=phi*(1/2)\n",
    "\n",
    "r1=round(fibo_nr[-4]/fibo_nr[-1]*100,1)\n",
    "r2=round(fibo_nr[-3]/fibo_nr[-1]*100,1)\n",
    "r3=round(fibo_nr[-2]/fibo_nr[-1]*100,1)\n",
    "r5=round(1/phi*100,1)\n",
    "r6=round(phi**(1/2)*100,1)\n",
    "\n",
    "print(\"Golden Ratio:\")\n",
    "print(\"\\t \\u03A6 = {} \\n\".format(phi))\n",
    "print(\"Retracement levels:\")\n",
    "print(\"\\t Level 1 = {}%\".format(r1))\n",
    "print(colored(\"\\t Level 2 = {}%\".format(r2), \"green\"))\n",
    "print(\"\\t Level 3 = {}%\".format(r3))\n",
    "print(\"\\t Level 4 = 50.0%\")\n",
    "print(colored(\"\\t Level 5 = {}%\".format(r5), \"green\"))\n",
    "print(\"\\t Level 6 = {}%\".format(r6))"
   ]
  },
  {
   "cell_type": "markdown",
   "metadata": {},
   "source": [
    "# Visualization of Fibonacci Retracement levels on stock data\n",
    "\n"
   ]
  },
  {
   "cell_type": "code",
   "execution_count": 45,
   "metadata": {},
   "outputs": [
    {
     "name": "stdout",
     "output_type": "stream",
     "text": [
      "Setup Complete\n"
     ]
    }
   ],
   "source": [
    "# Setup to import stock data from Yahoo finance\n",
    "\n",
    "import pandas as pd\n",
    "import numpy as np\n",
    "\n",
    "import matplotlib.pyplot as plt\n",
    "import seaborn as sns\n",
    "\n",
    "sns.set_style('whitegrid')\n",
    "plt.style.use(\"fivethirtyeight\")\n",
    "%matplotlib inline\n",
    "\n",
    "# For reading stock data from yahoo\n",
    "import pandas_datareader as dr\n",
    "\n",
    "# For time stamps\n",
    "from datetime import datetime\n",
    "\n",
    "print(\"Setup Complete\")"
   ]
  },
  {
   "cell_type": "code",
   "execution_count": 46,
   "metadata": {},
   "outputs": [
    {
     "data": {
      "text/plain": [
       "datetime.date(2021, 1, 19)"
      ]
     },
     "execution_count": 46,
     "metadata": {},
     "output_type": "execute_result"
    }
   ],
   "source": [
    "#Omiting the time of datetime.now()\n",
    "\n",
    "from datetime import datetime\n",
    "datetime.now().date()\n"
   ]
  },
  {
   "cell_type": "code",
   "execution_count": 47,
   "metadata": {},
   "outputs": [
    {
     "data": {
      "text/html": [
       "<div>\n",
       "<style scoped>\n",
       "    .dataframe tbody tr th:only-of-type {\n",
       "        vertical-align: middle;\n",
       "    }\n",
       "\n",
       "    .dataframe tbody tr th {\n",
       "        vertical-align: top;\n",
       "    }\n",
       "\n",
       "    .dataframe thead th {\n",
       "        text-align: right;\n",
       "    }\n",
       "</style>\n",
       "<table border=\"1\" class=\"dataframe\">\n",
       "  <thead>\n",
       "    <tr style=\"text-align: right;\">\n",
       "      <th></th>\n",
       "      <th>High</th>\n",
       "      <th>Low</th>\n",
       "      <th>Open</th>\n",
       "      <th>Close</th>\n",
       "      <th>Volume</th>\n",
       "      <th>Adj Close</th>\n",
       "    </tr>\n",
       "    <tr>\n",
       "      <th>Date</th>\n",
       "      <th></th>\n",
       "      <th></th>\n",
       "      <th></th>\n",
       "      <th></th>\n",
       "      <th></th>\n",
       "      <th></th>\n",
       "    </tr>\n",
       "  </thead>\n",
       "  <tbody>\n",
       "    <tr>\n",
       "      <th>2020-01-19</th>\n",
       "      <td>9164.362305</td>\n",
       "      <td>8620.080078</td>\n",
       "      <td>8941.445312</td>\n",
       "      <td>8706.245117</td>\n",
       "      <td>3.421732e+10</td>\n",
       "      <td>8706.245117</td>\n",
       "    </tr>\n",
       "    <tr>\n",
       "      <th>2020-01-20</th>\n",
       "      <td>8745.590820</td>\n",
       "      <td>8560.473633</td>\n",
       "      <td>8704.631836</td>\n",
       "      <td>8657.642578</td>\n",
       "      <td>2.642238e+10</td>\n",
       "      <td>8657.642578</td>\n",
       "    </tr>\n",
       "    <tr>\n",
       "      <th>2020-01-21</th>\n",
       "      <td>8755.706055</td>\n",
       "      <td>8544.520508</td>\n",
       "      <td>8658.991211</td>\n",
       "      <td>8745.894531</td>\n",
       "      <td>2.409742e+10</td>\n",
       "      <td>8745.894531</td>\n",
       "    </tr>\n",
       "    <tr>\n",
       "      <th>2020-01-22</th>\n",
       "      <td>8792.994141</td>\n",
       "      <td>8636.747070</td>\n",
       "      <td>8744.210938</td>\n",
       "      <td>8680.875977</td>\n",
       "      <td>2.260020e+10</td>\n",
       "      <td>8680.875977</td>\n",
       "    </tr>\n",
       "    <tr>\n",
       "      <th>2020-01-23</th>\n",
       "      <td>8687.747070</td>\n",
       "      <td>8333.637695</td>\n",
       "      <td>8680.650391</td>\n",
       "      <td>8406.515625</td>\n",
       "      <td>2.577068e+10</td>\n",
       "      <td>8406.515625</td>\n",
       "    </tr>\n",
       "  </tbody>\n",
       "</table>\n",
       "</div>"
      ],
      "text/plain": [
       "                   High          Low         Open        Close        Volume  \\\n",
       "Date                                                                           \n",
       "2020-01-19  9164.362305  8620.080078  8941.445312  8706.245117  3.421732e+10   \n",
       "2020-01-20  8745.590820  8560.473633  8704.631836  8657.642578  2.642238e+10   \n",
       "2020-01-21  8755.706055  8544.520508  8658.991211  8745.894531  2.409742e+10   \n",
       "2020-01-22  8792.994141  8636.747070  8744.210938  8680.875977  2.260020e+10   \n",
       "2020-01-23  8687.747070  8333.637695  8680.650391  8406.515625  2.577068e+10   \n",
       "\n",
       "              Adj Close  \n",
       "Date                     \n",
       "2020-01-19  8706.245117  \n",
       "2020-01-20  8657.642578  \n",
       "2020-01-21  8745.894531  \n",
       "2020-01-22  8680.875977  \n",
       "2020-01-23  8406.515625  "
      ]
     },
     "execution_count": 47,
     "metadata": {},
     "output_type": "execute_result"
    }
   ],
   "source": [
    "#Set timeframe for stock data to be imported\n",
    "end = datetime.now().date()\n",
    "start = datetime(end.year-1, end.month, end.day).date()\n",
    "\n",
    "df=dr.data.get_data_yahoo(\"BTC-USD\", start, end)\n",
    "df.head()"
   ]
  },
  {
   "cell_type": "code",
   "execution_count": 48,
   "metadata": {},
   "outputs": [
    {
     "data": {
      "text/html": [
       "<div>\n",
       "<style scoped>\n",
       "    .dataframe tbody tr th:only-of-type {\n",
       "        vertical-align: middle;\n",
       "    }\n",
       "\n",
       "    .dataframe tbody tr th {\n",
       "        vertical-align: top;\n",
       "    }\n",
       "\n",
       "    .dataframe thead th {\n",
       "        text-align: right;\n",
       "    }\n",
       "</style>\n",
       "<table border=\"1\" class=\"dataframe\">\n",
       "  <thead>\n",
       "    <tr style=\"text-align: right;\">\n",
       "      <th></th>\n",
       "      <th>High</th>\n",
       "      <th>Low</th>\n",
       "      <th>Open</th>\n",
       "      <th>Close</th>\n",
       "      <th>Volume</th>\n",
       "      <th>Adj Close</th>\n",
       "    </tr>\n",
       "  </thead>\n",
       "  <tbody>\n",
       "    <tr>\n",
       "      <th>count</th>\n",
       "      <td>363.000000</td>\n",
       "      <td>363.000000</td>\n",
       "      <td>363.000000</td>\n",
       "      <td>363.000000</td>\n",
       "      <td>3.630000e+02</td>\n",
       "      <td>363.000000</td>\n",
       "    </tr>\n",
       "    <tr>\n",
       "      <th>mean</th>\n",
       "      <td>12831.449476</td>\n",
       "      <td>12193.757882</td>\n",
       "      <td>12503.093367</td>\n",
       "      <td>12581.359964</td>\n",
       "      <td>3.419545e+10</td>\n",
       "      <td>12581.359964</td>\n",
       "    </tr>\n",
       "    <tr>\n",
       "      <th>std</th>\n",
       "      <td>7230.983064</td>\n",
       "      <td>6522.149021</td>\n",
       "      <td>6881.779442</td>\n",
       "      <td>7003.155849</td>\n",
       "      <td>1.469307e+10</td>\n",
       "      <td>7003.155849</td>\n",
       "    </tr>\n",
       "    <tr>\n",
       "      <th>min</th>\n",
       "      <td>5331.833984</td>\n",
       "      <td>4106.980957</td>\n",
       "      <td>5002.578125</td>\n",
       "      <td>4970.788086</td>\n",
       "      <td>1.225260e+10</td>\n",
       "      <td>4970.788086</td>\n",
       "    </tr>\n",
       "    <tr>\n",
       "      <th>25%</th>\n",
       "      <td>9224.409668</td>\n",
       "      <td>8994.196289</td>\n",
       "      <td>9128.951660</td>\n",
       "      <td>9135.240723</td>\n",
       "      <td>2.345518e+10</td>\n",
       "      <td>9135.240723</td>\n",
       "    </tr>\n",
       "    <tr>\n",
       "      <th>50%</th>\n",
       "      <td>10182.340820</td>\n",
       "      <td>9729.334961</td>\n",
       "      <td>9936.162109</td>\n",
       "      <td>9951.518555</td>\n",
       "      <td>3.258974e+10</td>\n",
       "      <td>9951.518555</td>\n",
       "    </tr>\n",
       "    <tr>\n",
       "      <th>75%</th>\n",
       "      <td>12687.509277</td>\n",
       "      <td>11927.727051</td>\n",
       "      <td>12121.390137</td>\n",
       "      <td>12539.045898</td>\n",
       "      <td>4.194777e+10</td>\n",
       "      <td>12539.045898</td>\n",
       "    </tr>\n",
       "    <tr>\n",
       "      <th>max</th>\n",
       "      <td>41946.738281</td>\n",
       "      <td>38980.875000</td>\n",
       "      <td>40788.640625</td>\n",
       "      <td>40797.609375</td>\n",
       "      <td>1.233206e+11</td>\n",
       "      <td>40797.609375</td>\n",
       "    </tr>\n",
       "  </tbody>\n",
       "</table>\n",
       "</div>"
      ],
      "text/plain": [
       "               High           Low          Open         Close        Volume  \\\n",
       "count    363.000000    363.000000    363.000000    363.000000  3.630000e+02   \n",
       "mean   12831.449476  12193.757882  12503.093367  12581.359964  3.419545e+10   \n",
       "std     7230.983064   6522.149021   6881.779442   7003.155849  1.469307e+10   \n",
       "min     5331.833984   4106.980957   5002.578125   4970.788086  1.225260e+10   \n",
       "25%     9224.409668   8994.196289   9128.951660   9135.240723  2.345518e+10   \n",
       "50%    10182.340820   9729.334961   9936.162109   9951.518555  3.258974e+10   \n",
       "75%    12687.509277  11927.727051  12121.390137  12539.045898  4.194777e+10   \n",
       "max    41946.738281  38980.875000  40788.640625  40797.609375  1.233206e+11   \n",
       "\n",
       "          Adj Close  \n",
       "count    363.000000  \n",
       "mean   12581.359964  \n",
       "std     7003.155849  \n",
       "min     4970.788086  \n",
       "25%     9135.240723  \n",
       "50%     9951.518555  \n",
       "75%    12539.045898  \n",
       "max    40797.609375  "
      ]
     },
     "execution_count": 48,
     "metadata": {},
     "output_type": "execute_result"
    }
   ],
   "source": [
    "df.describe()"
   ]
  },
  {
   "cell_type": "code",
   "execution_count": 49,
   "metadata": {},
   "outputs": [
    {
     "data": {
      "image/png": "[encoded data removed]",
      "text/plain": [
       "<Figure size 1080x360 with 1 Axes>"
      ]
     },
     "metadata": {
      "needs_background": "light"
     },
     "output_type": "display_data"
    }
   ],
   "source": [
    "#Show graph of stock data extracted from Yahoo Finance\n",
    "df[[\"Open\",\"Adj Close\"]].plot(figsize=(15,5), linewidth=1);"
   ]
  },
  {
   "cell_type": "code",
   "execution_count": 52,
   "metadata": {},
   "outputs": [
    {
     "name": "stdout",
     "output_type": "stream",
     "text": [
      "The minimum value 4971.0 was reached on 2020-03-12.\n",
      "The maximum value 40798.0 was reached on 2021-01-08.\n"
     ]
    }
   ],
   "source": [
    "#Analysis of closing data \n",
    "\n",
    "closing_df=df[\"Adj Close\"]\n",
    "\n",
    "#Minimum stock price during extracted time frame\n",
    "date_min=closing_df.idxmin().date()\n",
    "date_min\n",
    "\n",
    "value_min=round(closing_df.min())\n",
    "value_min\n",
    "\n",
    "#Maximum stock price during extracted time frame\n",
    "date_max=closing_df.idxmax().date()\n",
    "date_max\n",
    "\n",
    "value_max=round(closing_df.max())\n",
    "value_max\n",
    "\n",
    "#Calculation of rectracement levels for this graph\n",
    "dif=value_max-value_min\n",
    "retr1=value_max-0.236*dif\n",
    "retr2=value_max-0.382*dif\n",
    "retr3=value_max-0.500*dif\n",
    "retr4=value_max-0.618*dif\n",
    "\n",
    "print(\"The minimum value {} was reached on {}.\".format(value_min, date_min))\n",
    "print(\"The maximum value {} was reached on {}.\".format(value_max, date_max))\n"
   ]
  },
  {
   "cell_type": "code",
   "execution_count": 53,
   "metadata": {},
   "outputs": [
    {
     "data": {
      "image/png": "[encoded data removed]",
      "text/plain": [
       "<Figure size 1080x504 with 1 Axes>"
      ]
     },
     "metadata": {
      "needs_background": "light"
     },
     "output_type": "display_data"
    }
   ],
   "source": [
    "#Plot retracement levels inside stock graph\n",
    "import matplotlib.pyplot as plt\n",
    "import seaborn as sns\n",
    "\n",
    "ax= df[[\"Adj Close\"]].plot(linewidth=1, figsize=(15,7), title=(\"Closing price of BTC-USD\"));\n",
    "ax.get_legend().remove()\n",
    "\n",
    "# Rise of the value from the minimum to the maximum value in the selected time frame\n",
    "plt.plot([date_min, date_max], [value_min, value_max],'--', linewidth=1, color=\"gray\", )\n",
    "plt.plot([start, end],[value_max, value_max],'--', linewidth=1, color=\"gray\")\n",
    "plt.plot([start, end],[retr1,retr1],'--', linewidth=1, color=\"gray\")\n",
    "plt.plot([start, end],[retr2,retr2],'--', linewidth=1, color=\"gray\")\n",
    "plt.plot([start, end],[retr3,retr3],'--', linewidth=1, color=\"gray\")\n",
    "plt.plot([start, end],[retr4,retr4],'--', linewidth=1, color=\"gray\")\n",
    "plt.plot([start, end],[value_min,value_min],'--', linewidth=1, color=\"gray\")\n",
    "\n",
    "#Y axis put ticks on retracement levels\n",
    "# plt.yticks([value_max,retr1, retr2, retr3, retr4, value_min]);\n",
    "\n",
    "#Set marker on max and min value\n",
    "plt.scatter([date_max], [value_max], s=50, marker='o', color ='blue')\n",
    "plt.scatter([date_min], [value_min], s=50, marker='o', color ='blue')\n",
    "\n",
    "#Description of retracement levels.  Add text manually\n",
    "plt.annotate(r'0%',xy=(start, value_max));\n",
    "plt.annotate(r'23,6%',xy=(start, retr1));\n",
    "plt.annotate(r'38,2%',xy=(start, retr2));\n",
    "plt.annotate(r\"50%\", xy=(start, retr3));\n",
    "plt.annotate(r\"61,8%\", xy=(start, retr4));\n",
    "plt.annotate(r\"100%\", xy=(start, value_min));"
   ]
  },
  {
   "cell_type": "code",
   "execution_count": 54,
   "metadata": {},
   "outputs": [
    {
     "data": {
      "image/png": "[encoded data removed]",
      "text/plain": [
       "<Figure size 720x360 with 1 Axes>"
      ]
     },
     "metadata": {
      "needs_background": "light"
     },
     "output_type": "display_data"
    }
   ],
   "source": [
    "#Percentage change in relation to the day for a defined timeframe\n",
    "\n",
    "end2 = datetime.now().date()\n",
    "start2 = \"2020-12-01\"\n",
    "\n",
    "#closing_df.loc[start2:end2].head()\n",
    "closing_df.loc[start2:end2].pct_change().plot.bar(figsize=(10,5), linewidth=1);"
   ]
  }
 ],
 "metadata": {
  "kernelspec": {
   "display_name": "Python 3",
   "language": "python",
   "name": "python3"
  },
  "language_info": {
   "codemirror_mode": {
    "name": "ipython",
    "version": 3
   },
   "file_extension": ".py",
   "mimetype": "text/x-python",
   "name": "python",
   "nbconvert_exporter": "python",
   "pygments_lexer": "ipython3",
   "version": "3.7.3"
  }
 },
 "nbformat": 4,
 "nbformat_minor": 2
}
